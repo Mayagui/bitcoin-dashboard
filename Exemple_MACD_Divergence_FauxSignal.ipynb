{
 "cells": [
  {
   "cell_type": "code",
   "execution_count": null,
   "id": "e3967a9f",
   "metadata": {},
   "outputs": [],
   "source": [
    "import numpy as np\n",
    "import pandas as pd\n",
    "import matplotlib.pyplot as plt\n",
    "\n",
    "# Génération d'une série de prix fictive\n",
    "dates = pd.date_range('2022-01-01', periods=60)\n",
    "prix = np.concatenate([np.linspace(10, 20, 30), np.linspace(20, 15, 30)])\n",
    "# Ajout d'un faux signal (bruit)\n",
    "prix[40:45] += 2\n",
    "\n",
    "df = pd.DataFrame({'Date': dates, 'Close': prix})\n",
    "df = df.set_index('Date')\n",
    "\n",
    "# Calcul EMA12 et EMA26\n",
    "df['EMA12'] = df['Close'].ewm(span=12, adjust=False).mean()\n",
    "df['EMA26'] = df['Close'].ewm(span=26, adjust=False).mean()\n",
    "# Calcul MACD et MACD_signal\n",
    "df['MACD'] = df['EMA12'] - df['EMA26']\n",
    "df['MACD_signal'] = df['MACD'].ewm(span=9, adjust=False).mean()\n",
    "\n",
    "df[['Close', 'EMA12', 'EMA26', 'MACD', 'MACD_signal']].head(15)"
   ]
  },
  {
   "cell_type": "markdown",
   "id": "9f8b2670",
   "metadata": {},
   "source": [
    "## Visualisation du prix, MACD et MACD_signal\n",
    "\n",
    "- Les croisements MACD/MACD_signal donnent des signaux d'achat/vente.\n",
    "- On va aussi repérer une divergence."
   ]
  },
  {
   "cell_type": "code",
   "execution_count": null,
   "id": "8649dc34",
   "metadata": {},
   "outputs": [],
   "source": [
    "fig, axs = plt.subplots(2, 1, figsize=(12, 8), sharex=True)\n",
    "\n",
    "# Prix et EMAs\n",
    "axs[0].plot(df.index, df['Close'], label='Prix', color='black')\n",
    "axs[0].plot(df.index, df['EMA12'], label='EMA12', color='blue', linestyle='--')\n",
    "axs[0].plot(df.index, df['EMA26'], label='EMA26', color='red', linestyle='--')\n",
    "axs[0].set_title('Prix et Moyennes Mobiles Exponentielles')\n",
    "axs[0].legend()\n",
    "\n",
    "# MACD et signal\n",
    "axs[1].plot(df.index, df['MACD'], label='MACD', color='purple')\n",
    "axs[1].plot(df.index, df['MACD_signal'], label='MACD_signal', color='orange')\n",
    "axs[1].axhline(0, color='grey', linestyle=':')\n",
    "axs[1].set_title('MACD et MACD_signal')\n",
    "axs[1].legend()\n",
    "\n",
    "plt.tight_layout()\n",
    "plt.show()"
   ]
  },
  {
   "cell_type": "markdown",
   "id": "bb8e2e71",
   "metadata": {},
   "source": [
    "## Détection d'une divergence\n",
    "\n",
    "On cherche une zone où le prix fait un plus bas mais le MACD fait un plus haut (divergence haussière)."
   ]
  },
  {
   "cell_type": "code",
   "execution_count": null,
   "id": "54de8b14",
   "metadata": {},
   "outputs": [],
   "source": [
    "# Recherche d'une divergence haussière\n",
    "div_start, div_end = 28, 35\n",
    "prix_zone = df['Close'].iloc[div_start:div_end]\n",
    "macd_zone = df['MACD'].iloc[div_start:div_end]\n",
    "\n",
    "print('Prix min:', prix_zone.min(), 'MACD min:', macd_zone.min())\n",
    "print('Prix max:', prix_zone.max(), 'MACD max:', macd_zone.max())\n",
    "\n",
    "plt.figure(figsize=(10,4))\n",
    "plt.plot(prix_zone.index, prix_zone, label='Prix')\n",
    "plt.plot(macd_zone.index, macd_zone, label='MACD')\n",
    "plt.title('Exemple de divergence haussière')\n",
    "plt.legend()\n",
    "plt.show()"
   ]
  },
  {
   "cell_type": "markdown",
   "id": "bc36c6ba",
   "metadata": {},
   "source": [
    "## Illustration d'un faux signal\n",
    "\n",
    "On regarde une zone où le MACD croise à la hausse, mais le prix ne monte pas vraiment ensuite (faux signal)."
   ]
  },
  {
   "cell_type": "code",
   "execution_count": null,
   "id": "e7ca7683",
   "metadata": {},
   "outputs": [],
   "source": [
    "# Faux signal autour de l'indice 42\n",
    "faux_signal_idx = 42\n",
    "\n",
    "plt.figure(figsize=(10,4))\n",
    "plt.plot(df.index, df['Close'], label='Prix')\n",
    "plt.axvline(df.index[faux_signal_idx], color='red', linestyle='--', label='Signal MACD')\n",
    "plt.title('Faux signal : le prix ne monte pas après le croisement MACD')\n",
    "plt.legend()\n",
    "plt.show()"
   ]
  },
  {
   "cell_type": "markdown",
   "id": "4a963b3d",
   "metadata": {},
   "source": [
    "**Résumé** :\n",
    "- Le MACD détecte les accélérations de tendance.\n",
    "- Les divergences signalent des retournements potentiels.\n",
    "- Les faux signaux existent, d'où l'intérêt de filtrer avec d'autres indicateurs ou le volume."
   ]
  }
 ],
 "metadata": {
  "language_info": {
   "name": "python"
  }
 },
 "nbformat": 4,
 "nbformat_minor": 5
}
